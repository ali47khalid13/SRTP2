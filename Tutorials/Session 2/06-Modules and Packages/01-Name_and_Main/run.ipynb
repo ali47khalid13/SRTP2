{
 "cells": [
  {
   "cell_type": "code",
   "execution_count": 6,
   "metadata": {},
   "outputs": [
    {
     "name": "stdout",
     "output_type": "stream",
     "text": [
      "top-level print inside of one.py\n",
      "one.py is being run directly\n"
     ]
    }
   ],
   "source": [
    " !python one.py"
   ]
  },
  {
   "cell_type": "code",
   "execution_count": 4,
   "metadata": {},
   "outputs": [
    {
     "name": "stdout",
     "output_type": "stream",
     "text": [
      "top-level in two.py\n",
      "func() ran in one.py\n",
      "top-level print inside of one.py\n",
      "one.py is being imported into another module\n",
      "two.py is being run directly\n"
     ]
    }
   ],
   "source": [
    " !python two.py"
   ]
  }
 ],
 "metadata": {
  "kernelspec": {
   "display_name": "Python 3",
   "language": "python",
   "name": "python3"
  },
  "language_info": {
   "codemirror_mode": {
    "name": "ipython",
    "version": 3
   },
   "file_extension": ".py",
   "mimetype": "text/x-python",
   "name": "python",
   "nbconvert_exporter": "python",
   "pygments_lexer": "ipython3",
   "version": "3.7.4"
  }
 },
 "nbformat": 4,
 "nbformat_minor": 4
}
