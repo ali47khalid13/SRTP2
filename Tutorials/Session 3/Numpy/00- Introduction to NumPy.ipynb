{
 "cells": [
  {
   "cell_type": "markdown",
   "metadata": {},
   "source": [
    "# Numpy\n",
    "\n",
    "## What is NumPy?\n",
    "\n",
    "Numpy is an open-source library for working efficiently with arrays. Developed in 2005 by Travis Oliphant, the name stands for Numerical Python. As a critical data science library in Python, many other libraries depend on it.\n",
    "\n",
    "## Why is NumPy so popular?\n",
    "\n",
    "NumPy is extremely popular because it dramatically improves the ease and performance of working with multidimensional arrays.\n",
    "\n",
    "## Some of Numpy's advantages:\n",
    "\n",
    "1. Mathematical operations on NumPy’s ndarray objects are up to 50x faster than iterating over native Python lists using loops. The efficiency gains are primarily due to NumPy storing array elements in an ordered single location within memory, eliminating redundancies by having all elements be the same type and making full use of modern CPUs. The efficiency advantages become particularly apparent when operating on arrays with thousands or millions of elements, which are pretty standard within data science.\n",
    "2. It offers an Indexing syntax for easily accessing portions of data within an array.\n",
    "3. It contains built-in functions that improve quality of life when working with arrays and math, such as functions for linear algebra, array transformations, and matrix math.\n",
    "4. It requires fewer lines of code for most mathematical operations than native Python lists.\n",
    "\n",
    "## Best place to get more info\n",
    "\n",
    "The online documentation (https://numpy.org/doc/) is a great place to look for further information on topics introduced in this article. The documentation goes into more detail than this introduction and is continually updated with evolving best practices.\n",
    "\n",
    "## When should you start using NumPy?\n",
    "\n",
    "NumPy would be a good candidate for the first library to explore after gaining basic comfort with the Python environment. After NumPy, the next logical choices for growing your data science and scientific computing capabilities might be SciPy and pandas. In short, learn Python, then NumPy, then SciPy, or pandas.\n",
    "\n",
    "## What's the relationship between NumPy, SciPy, Scikit-learn, and Pandas?\n",
    "\n",
    "* **NumPy** provides a foundation on which other data science packages are built, including SciPy, Scikit-learn, and Pandas.\n",
    "* **SciPy** provides a menu of libraries for scientific computations. It extends NumPy by including integration, interpolation, signal processing, more linear algebra functions, descriptive and inferential statistics, numerical optimizations, and more.\n",
    "* **Scikit-learn** extends NumPy and SciPy with advanced machine-learning algorithms.\n",
    "* **Pandas** extends NumPy by providing functions for exploratory data analysis, statistics, and data visualization. It can be thought of as Python's equivalent to Microsoft Excel spreadsheets for working with and exploring tabular data (tutorial).\n",
    "\n",
    "## An Alternative to MATLAB?\n",
    "\n",
    "Many readers will likely be familiar with the commercial scientific computing software MATLAB. When used together with other Python libraries like Matplotlib, NumPy can be considered as a fully-fledged alternative to MATLAB's core functionality.Python is quite an attractive alternative to MATLAB for the following reasons:\n",
    "\n",
    "* Python is open-source, which means that you have the option of inspecting the source code yourself.\n",
    "* Access the vast and ever-growing possibilities open to Python users.\n",
    "* Unlike MATLAB, Python and Numpy are free. No further explanation is needed!\n",
    "\n",
    "## Installation\n",
    "\n",
    "To check if you already have NumPy installed in your Python installation (it most likely is), run the command\n",
    "`import numpy as np`. If no error message is returned, that's a good sign NumPy is already available. If you get an error message like `ModuleNotFoundError: No module named 'numpy'`,This probably means that NumPy needs to be installed first. If you use the pip Python package manager, the required command is `pip install numpy`. If you need more detailed installation instructions, refer to https://numpy.org/.\n",
    "\n",
    "## List of useful NumPy functions\n",
    "\n",
    "NumPy has numerous useful functions. You can see the full list of functions in the NumPy docs. As an overview, here are some of the most popular and useful ones to give you a sense of what NumPy can do. We will cover many of them in this tutorial.\n",
    "\n",
    "* **Array Creation:** arange, array, copy, empty, empty_like, eye, fromfile, fromfunction, identity, linspace, logspace, mgrid, ogrid, ones, ones_like, r_, zeros, zeros_like\n",
    "* **Conversions:** ndarray.astype, atleast_1d, atleast_2d, atleast_3d, mat\n",
    "* **Manipulations:** array_split, column_stack, concatenate, diagonal, dsplit, dstack, hsplit, hstack, ndarray.item, newaxis, ravel, repeat, reshape, resize, squeeze, swapaxes, take, transpose, vsplit, vstack\n",
    "* **Questions:** all, any, nonzero, where\n",
    "* **Ordering:** argmax, argmin, argsort, max, min, ptp, searchsorted, sort\n",
    "* **Operations:** choose, compress, cumprod, cumsum, inner, ndarray.fill, imag, prod, put, putmask, real, sum\n",
    "* **Basic Statistics:** cov, mean, std, var\n",
    "* **Basic Linear Algebra:** cross, dot, outer, linalg.svd, vdot"
   ]
  }
 ],
 "metadata": {
  "kernelspec": {
   "display_name": "Python 3",
   "language": "python",
   "name": "python3"
  },
  "language_info": {
   "codemirror_mode": {
    "name": "ipython",
    "version": 3
   },
   "file_extension": ".py",
   "mimetype": "text/x-python",
   "name": "python",
   "nbconvert_exporter": "python",
   "pygments_lexer": "ipython3",
   "version": "3.7.4"
  }
 },
 "nbformat": 4,
 "nbformat_minor": 2
}
